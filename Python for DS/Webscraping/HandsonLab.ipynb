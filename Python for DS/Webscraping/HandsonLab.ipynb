{
 "cells": [
  {
   "cell_type": "code",
   "execution_count": 1,
   "metadata": {},
   "outputs": [
    {
     "name": "stdout",
     "output_type": "stream",
     "text": [
      "Collecting html5lib\n",
      "  Downloading html5lib-1.1-py2.py3-none-any.whl (112 kB)\n",
      "     -------------------------------------- 112.2/112.2 kB 6.4 MB/s eta 0:00:00\n",
      "Requirement already satisfied: webencodings in c:\\users\\admin\\anaconda3\\envs\\tf\\lib\\site-packages (from html5lib) (0.5.1)\n",
      "Requirement already satisfied: six>=1.9 in c:\\users\\admin\\anaconda3\\envs\\tf\\lib\\site-packages (from html5lib) (1.16.0)\n",
      "Installing collected packages: html5lib\n",
      "Successfully installed html5lib-1.1\n"
     ]
    }
   ],
   "source": [
    "!pip install html5lib"
   ]
  },
  {
   "cell_type": "code",
   "execution_count": 2,
   "metadata": {},
   "outputs": [
    {
     "name": "stdout",
     "output_type": "stream",
     "text": [
      "Collecting bs4\n",
      "  Downloading bs4-0.0.1.tar.gz (1.1 kB)\n",
      "  Preparing metadata (setup.py): started\n",
      "  Preparing metadata (setup.py): finished with status 'done'\n",
      "Requirement already satisfied: beautifulsoup4 in c:\\users\\admin\\anaconda3\\envs\\tf\\lib\\site-packages (from bs4) (4.11.1)\n",
      "Requirement already satisfied: soupsieve>1.2 in c:\\users\\admin\\anaconda3\\envs\\tf\\lib\\site-packages (from beautifulsoup4->bs4) (2.3.2.post1)\n",
      "Building wheels for collected packages: bs4\n",
      "  Building wheel for bs4 (setup.py): started\n",
      "  Building wheel for bs4 (setup.py): finished with status 'done'\n",
      "  Created wheel for bs4: filename=bs4-0.0.1-py3-none-any.whl size=1257 sha256=a270433de2182379037eb4d1e484e933f6b3138f0debf3050cac1a29b4cd7a29\n",
      "  Stored in directory: c:\\users\\admin\\appdata\\local\\pip\\cache\\wheels\\e4\\62\\1d\\d4d1bc4f33350ff84227f89b258edb552d604138e3739f5c83\n",
      "Successfully built bs4\n",
      "Installing collected packages: bs4\n",
      "Successfully installed bs4-0.0.1\n",
      "Requirement already satisfied: requests in c:\\users\\admin\\anaconda3\\envs\\tf\\lib\\site-packages (2.28.1)\n",
      "Requirement already satisfied: urllib3<1.27,>=1.21.1 in c:\\users\\admin\\anaconda3\\envs\\tf\\lib\\site-packages (from requests) (1.26.14)\n",
      "Requirement already satisfied: idna<4,>=2.5 in c:\\users\\admin\\anaconda3\\envs\\tf\\lib\\site-packages (from requests) (3.4)\n",
      "Requirement already satisfied: charset-normalizer<3,>=2 in c:\\users\\admin\\anaconda3\\envs\\tf\\lib\\site-packages (from requests) (2.0.4)\n",
      "Requirement already satisfied: certifi>=2017.4.17 in c:\\users\\admin\\anaconda3\\envs\\tf\\lib\\site-packages (from requests) (2022.12.7)\n"
     ]
    }
   ],
   "source": [
    "!pip install bs4\n",
    "!pip install requests"
   ]
  },
  {
   "cell_type": "code",
   "execution_count": 6,
   "metadata": {},
   "outputs": [
    {
     "name": "stdout",
     "output_type": "stream",
     "text": [
      "Requirement already satisfied: beautifulsoup4 in c:\\users\\admin\\anaconda3\\envs\\tf\\lib\\site-packages (4.11.1)\n",
      "Requirement already satisfied: soupsieve>1.2 in c:\\users\\admin\\anaconda3\\envs\\tf\\lib\\site-packages (from beautifulsoup4) (2.3.2.post1)\n",
      "Note: you may need to restart the kernel to use updated packages.\n"
     ]
    }
   ],
   "source": [
    "pip install beautifulsoup4\n"
   ]
  },
  {
   "cell_type": "markdown",
   "metadata": {},
   "source": [
    "# Beautiful Soup Objects"
   ]
  },
  {
   "cell_type": "markdown",
   "metadata": {},
   "source": [
    "Consider the following HTML"
   ]
  },
  {
   "cell_type": "code",
   "execution_count": 1,
   "metadata": {
    "vscode": {
     "languageId": "html"
    }
   },
   "outputs": [
    {
     "data": {
      "text/html": [
       "<!DOCTYPE html>\n",
       "<html>\n",
       "<head>\n",
       "<title>Page Title</title>\n",
       "</head>\n",
       "<body>\n",
       "<h3><b id='boldest'>Lebron James</b></h3>\n",
       "<p> Salary: $ 92,000,000 </p>\n",
       "<h3> Stephen Curry</h3>\n",
       "<p> Salary: $85,000, 000 </p>\n",
       "<h3> Kevin Durant </h3>\n",
       "<p> Salary: $73,200, 000</p>\n",
       "</body>\n",
       "</html>\n"
      ],
      "text/plain": [
       "<IPython.core.display.HTML object>"
      ]
     },
     "metadata": {},
     "output_type": "display_data"
    }
   ],
   "source": [
    "%%html\n",
    "<!DOCTYPE html>\n",
    "<html>\n",
    "<head>\n",
    "<title>Page Title</title>\n",
    "</head>\n",
    "<body>\n",
    "<h3><b id='boldest'>Lebron James</b></h3>\n",
    "<p> Salary: $ 92,000,000 </p>\n",
    "<h3> Stephen Curry</h3>\n",
    "<p> Salary: $85,000, 000 </p>\n",
    "<h3> Kevin Durant </h3>\n",
    "<p> Salary: $73,200, 000</p>\n",
    "</body>\n",
    "</html>"
   ]
  },
  {
   "cell_type": "code",
   "execution_count": 2,
   "metadata": {},
   "outputs": [],
   "source": [
    "html=\"<!DOCTYPE html><html><head><title>Page Title</title></head><body><h3><b id='boldest'>Lebron James</b></h3><p> Salary: $ 92,000,000 </p><h3> Stephen Curry</h3><p> Salary: $85,000, 000 </p><h3> Kevin Durant </h3><p> Salary: $73,200, 000</p></body></html>\""
   ]
  },
  {
   "cell_type": "code",
   "execution_count": 4,
   "metadata": {},
   "outputs": [],
   "source": [
    "from bs4 import BeautifulSoup\n",
    "import requests\n"
   ]
  },
  {
   "cell_type": "code",
   "execution_count": 6,
   "metadata": {},
   "outputs": [],
   "source": [
    "soup = BeautifulSoup(html, 'html5lib')"
   ]
  },
  {
   "cell_type": "code",
   "execution_count": 7,
   "metadata": {},
   "outputs": [
    {
     "name": "stdout",
     "output_type": "stream",
     "text": [
      "<!DOCTYPE html>\n",
      "<html>\n",
      " <head>\n",
      "  <title>\n",
      "   Page Title\n",
      "  </title>\n",
      " </head>\n",
      " <body>\n",
      "  <h3>\n",
      "   <b id=\"boldest\">\n",
      "    Lebron James\n",
      "   </b>\n",
      "  </h3>\n",
      "  <p>\n",
      "   Salary: $ 92,000,000\n",
      "  </p>\n",
      "  <h3>\n",
      "   Stephen Curry\n",
      "  </h3>\n",
      "  <p>\n",
      "   Salary: $85,000, 000\n",
      "  </p>\n",
      "  <h3>\n",
      "   Kevin Durant\n",
      "  </h3>\n",
      "  <p>\n",
      "   Salary: $73,200, 000\n",
      "  </p>\n",
      " </body>\n",
      "</html>\n"
     ]
    }
   ],
   "source": [
    "# display HTML in the nested structured\n",
    "print(soup.prettify())"
   ]
  },
  {
   "cell_type": "markdown",
   "metadata": {},
   "source": [
    "Tags"
   ]
  },
  {
   "cell_type": "code",
   "execution_count": 8,
   "metadata": {},
   "outputs": [
    {
     "name": "stdout",
     "output_type": "stream",
     "text": [
      "tag object: <title>Page Title</title>\n"
     ]
    }
   ],
   "source": [
    "tag_object = soup.title\n",
    "print('tag object:', tag_object)"
   ]
  },
  {
   "cell_type": "code",
   "execution_count": 9,
   "metadata": {},
   "outputs": [
    {
     "data": {
      "text/plain": [
       "bs4.element.Tag"
      ]
     },
     "execution_count": 9,
     "metadata": {},
     "output_type": "execute_result"
    }
   ],
   "source": [
    "type(tag_object)"
   ]
  },
  {
   "cell_type": "code",
   "execution_count": 11,
   "metadata": {},
   "outputs": [
    {
     "data": {
      "text/plain": [
       "<h3><b id=\"boldest\">Lebron James</b></h3>"
      ]
     },
     "execution_count": 11,
     "metadata": {},
     "output_type": "execute_result"
    }
   ],
   "source": [
    "# get the first h3 tag\n",
    "tag_object = soup.h3\n",
    "tag_object"
   ]
  },
  {
   "cell_type": "markdown",
   "metadata": {},
   "source": [
    "Children, Parents and Siblings"
   ]
  },
  {
   "cell_type": "code",
   "execution_count": 13,
   "metadata": {},
   "outputs": [
    {
     "data": {
      "text/plain": [
       "<b id=\"boldest\">Lebron James</b>"
      ]
     },
     "execution_count": 13,
     "metadata": {},
     "output_type": "execute_result"
    }
   ],
   "source": [
    "tag_child = tag_object.b\n",
    "tag_child"
   ]
  },
  {
   "cell_type": "code",
   "execution_count": 14,
   "metadata": {},
   "outputs": [
    {
     "data": {
      "text/plain": [
       "<h3><b id=\"boldest\">Lebron James</b></h3>"
      ]
     },
     "execution_count": 14,
     "metadata": {},
     "output_type": "execute_result"
    }
   ],
   "source": [
    "tag_parent = tag_child.parent\n",
    "tag_parent"
   ]
  },
  {
   "cell_type": "code",
   "execution_count": 15,
   "metadata": {},
   "outputs": [
    {
     "data": {
      "text/plain": [
       "<body><h3><b id=\"boldest\">Lebron James</b></h3><p> Salary: $ 92,000,000 </p><h3> Stephen Curry</h3><p> Salary: $85,000, 000 </p><h3> Kevin Durant </h3><p> Salary: $73,200, 000</p></body>"
      ]
     },
     "execution_count": 15,
     "metadata": {},
     "output_type": "execute_result"
    }
   ],
   "source": [
    "tag_parent.parent"
   ]
  },
  {
   "cell_type": "code",
   "execution_count": 18,
   "metadata": {},
   "outputs": [
    {
     "data": {
      "text/plain": [
       "<p> Salary: $ 92,000,000 </p>"
      ]
     },
     "execution_count": 18,
     "metadata": {},
     "output_type": "execute_result"
    }
   ],
   "source": [
    "sibling1 = tag_object.next_sibling\n",
    "sibling1"
   ]
  },
  {
   "cell_type": "markdown",
   "metadata": {},
   "source": []
  },
  {
   "cell_type": "code",
   "execution_count": 20,
   "metadata": {},
   "outputs": [
    {
     "data": {
      "text/plain": [
       "<p> Salary: $85,000, 000 </p>"
      ]
     },
     "execution_count": 20,
     "metadata": {},
     "output_type": "execute_result"
    }
   ],
   "source": [
    "# find the salary of Stephen Curry\n",
    "sibling2 = sibling1.next_sibling.next_sibling\n",
    "sibling2"
   ]
  },
  {
   "cell_type": "markdown",
   "metadata": {},
   "source": [
    "HTML Attributes"
   ]
  },
  {
   "cell_type": "code",
   "execution_count": 21,
   "metadata": {},
   "outputs": [
    {
     "name": "stdout",
     "output_type": "stream",
     "text": [
      "<b id=\"boldest\">Lebron James</b>\n"
     ]
    }
   ],
   "source": [
    "print(tag_child)"
   ]
  },
  {
   "cell_type": "code",
   "execution_count": 22,
   "metadata": {},
   "outputs": [
    {
     "data": {
      "text/plain": [
       "'boldest'"
      ]
     },
     "execution_count": 22,
     "metadata": {},
     "output_type": "execute_result"
    }
   ],
   "source": [
    "tag_child['id']"
   ]
  },
  {
   "cell_type": "code",
   "execution_count": 23,
   "metadata": {},
   "outputs": [
    {
     "data": {
      "text/plain": [
       "{'id': 'boldest'}"
      ]
     },
     "execution_count": 23,
     "metadata": {},
     "output_type": "execute_result"
    }
   ],
   "source": [
    "# access attrs -> dict\n",
    "tag_child.attrs"
   ]
  },
  {
   "cell_type": "code",
   "execution_count": 24,
   "metadata": {},
   "outputs": [
    {
     "data": {
      "text/plain": [
       "'boldest'"
      ]
     },
     "execution_count": 24,
     "metadata": {},
     "output_type": "execute_result"
    }
   ],
   "source": [
    "tag_child.get('id')"
   ]
  },
  {
   "cell_type": "markdown",
   "metadata": {},
   "source": [
    "Navigable String"
   ]
  },
  {
   "cell_type": "code",
   "execution_count": 25,
   "metadata": {},
   "outputs": [
    {
     "data": {
      "text/plain": [
       "'Lebron James'"
      ]
     },
     "execution_count": 25,
     "metadata": {},
     "output_type": "execute_result"
    }
   ],
   "source": [
    "tag_string = tag_child.string\n",
    "tag_string"
   ]
  },
  {
   "cell_type": "code",
   "execution_count": 26,
   "metadata": {},
   "outputs": [
    {
     "data": {
      "text/plain": [
       "bs4.element.NavigableString"
      ]
     },
     "execution_count": 26,
     "metadata": {},
     "output_type": "execute_result"
    }
   ],
   "source": [
    "type(tag_string)"
   ]
  },
  {
   "cell_type": "code",
   "execution_count": 28,
   "metadata": {},
   "outputs": [
    {
     "data": {
      "text/plain": [
       "str"
      ]
     },
     "execution_count": 28,
     "metadata": {},
     "output_type": "execute_result"
    }
   ],
   "source": [
    "# convert to python str\n",
    "unicode_str = str(tag_string)\n",
    "type(unicode_str)"
   ]
  },
  {
   "cell_type": "markdown",
   "metadata": {},
   "source": [
    "Filter"
   ]
  },
  {
   "cell_type": "code",
   "execution_count": 29,
   "metadata": {
    "vscode": {
     "languageId": "html"
    }
   },
   "outputs": [
    {
     "data": {
      "text/html": [
       "<table>\n",
       "  <tr>\n",
       "    <td id='flight' >Flight No</td>\n",
       "    <td>Launch site</td> \n",
       "    <td>Payload mass</td>\n",
       "   </tr>\n",
       "  <tr> \n",
       "    <td>1</td>\n",
       "    <td><a href='https://en.wikipedia.org/wiki/Florida'>Florida</a></td>\n",
       "    <td>300 kg</td>\n",
       "  </tr>\n",
       "  <tr>\n",
       "    <td>2</td>\n",
       "    <td><a href='https://en.wikipedia.org/wiki/Texas'>Texas</a></td>\n",
       "    <td>94 kg</td>\n",
       "  </tr>\n",
       "  <tr>\n",
       "    <td>3</td>\n",
       "    <td><a href='https://en.wikipedia.org/wiki/Florida'>Florida<a> </td>\n",
       "    <td>80 kg</td>\n",
       "  </tr>\n",
       "</table>\n"
      ],
      "text/plain": [
       "<IPython.core.display.HTML object>"
      ]
     },
     "metadata": {},
     "output_type": "display_data"
    }
   ],
   "source": [
    "%%html\n",
    "<table>\n",
    "  <tr>\n",
    "    <td id='flight' >Flight No</td>\n",
    "    <td>Launch site</td> \n",
    "    <td>Payload mass</td>\n",
    "   </tr>\n",
    "  <tr> \n",
    "    <td>1</td>\n",
    "    <td><a href='https://en.wikipedia.org/wiki/Florida'>Florida</a></td>\n",
    "    <td>300 kg</td>\n",
    "  </tr>\n",
    "  <tr>\n",
    "    <td>2</td>\n",
    "    <td><a href='https://en.wikipedia.org/wiki/Texas'>Texas</a></td>\n",
    "    <td>94 kg</td>\n",
    "  </tr>\n",
    "  <tr>\n",
    "    <td>3</td>\n",
    "    <td><a href='https://en.wikipedia.org/wiki/Florida'>Florida<a> </td>\n",
    "    <td>80 kg</td>\n",
    "  </tr>\n",
    "</table>"
   ]
  },
  {
   "cell_type": "code",
   "execution_count": 30,
   "metadata": {
    "vscode": {
     "languageId": "html"
    }
   },
   "outputs": [],
   "source": [
    "table = \"<table><tr><td id='flight'>Flight No</td><td>Launch site</td> <td>Payload mass</td></tr><tr> <td>1</td><td><a href='https://en.wikipedia.org/wiki/Florida'>Florida<a></td><td>300 kg</td></tr><tr><td>2</td><td><a href='https://en.wikipedia.org/wiki/Texas'>Texas</a></td><td>94 kg</td></tr><tr><td>3</td><td><a href='https://en.wikipedia.org/wiki/Florida'>Florida<a> </td><td>80 kg</td></tr></table>\""
   ]
  },
  {
   "cell_type": "code",
   "execution_count": 31,
   "metadata": {},
   "outputs": [],
   "source": [
    "table_bs = BeautifulSoup(table, 'html5lib')"
   ]
  },
  {
   "cell_type": "code",
   "execution_count": 33,
   "metadata": {},
   "outputs": [
    {
     "data": {
      "text/plain": [
       "[<tr><td id=\"flight\">Flight No</td><td>Launch site</td> <td>Payload mass</td></tr>,\n",
       " <tr> <td>1</td><td><a href=\"https://en.wikipedia.org/wiki/Florida\">Florida</a><a></a></td><td>300 kg</td></tr>,\n",
       " <tr><td>2</td><td><a href=\"https://en.wikipedia.org/wiki/Texas\">Texas</a></td><td>94 kg</td></tr>,\n",
       " <tr><td>3</td><td><a href=\"https://en.wikipedia.org/wiki/Florida\">Florida</a><a> </a></td><td>80 kg</td></tr>]"
      ]
     },
     "execution_count": 33,
     "metadata": {},
     "output_type": "execute_result"
    }
   ],
   "source": [
    "# find_all(name, attrs, recursive, string, limit, **kwargs)\n",
    "# - name\n",
    "table_rows = table_bs.find_all('tr') # return a list with tr tag\n",
    "table_rows"
   ]
  },
  {
   "cell_type": "code",
   "execution_count": 36,
   "metadata": {},
   "outputs": [
    {
     "data": {
      "text/plain": [
       "<td id=\"flight\">Flight No</td>"
      ]
     },
     "execution_count": 36,
     "metadata": {},
     "output_type": "execute_result"
    }
   ],
   "source": [
    "first_row = table_rows[0]\n",
    "first_row.td"
   ]
  },
  {
   "cell_type": "code",
   "execution_count": 37,
   "metadata": {},
   "outputs": [
    {
     "name": "stdout",
     "output_type": "stream",
     "text": [
      "row 0 is <tr><td id=\"flight\">Flight No</td><td>Launch site</td> <td>Payload mass</td></tr>\n",
      "row 1 is <tr> <td>1</td><td><a href=\"https://en.wikipedia.org/wiki/Florida\">Florida</a><a></a></td><td>300 kg</td></tr>\n",
      "row 2 is <tr><td>2</td><td><a href=\"https://en.wikipedia.org/wiki/Texas\">Texas</a></td><td>94 kg</td></tr>\n",
      "row 3 is <tr><td>3</td><td><a href=\"https://en.wikipedia.org/wiki/Florida\">Florida</a><a> </a></td><td>80 kg</td></tr>\n"
     ]
    }
   ],
   "source": [
    "for i, row in enumerate(table_rows):\n",
    "    print('row', i, 'is', row)"
   ]
  },
  {
   "cell_type": "code",
   "execution_count": 38,
   "metadata": {},
   "outputs": [
    {
     "name": "stdout",
     "output_type": "stream",
     "text": [
      "row 0\n",
      "column 0 cell <td id=\"flight\">Flight No</td>\n",
      "column 1 cell <td>Launch site</td>\n",
      "column 2 cell <td>Payload mass</td>\n",
      "row 1\n",
      "column 0 cell <td>1</td>\n",
      "column 1 cell <td><a href=\"https://en.wikipedia.org/wiki/Florida\">Florida</a><a></a></td>\n",
      "column 2 cell <td>300 kg</td>\n",
      "row 2\n",
      "column 0 cell <td>2</td>\n",
      "column 1 cell <td><a href=\"https://en.wikipedia.org/wiki/Texas\">Texas</a></td>\n",
      "column 2 cell <td>94 kg</td>\n",
      "row 3\n",
      "column 0 cell <td>3</td>\n",
      "column 1 cell <td><a href=\"https://en.wikipedia.org/wiki/Florida\">Florida</a><a> </a></td>\n",
      "column 2 cell <td>80 kg</td>\n"
     ]
    }
   ],
   "source": [
    "for i, row in enumerate(table_rows):\n",
    "    print('row', i)\n",
    "    cells = row.find_all('td')\n",
    "    for j, cell in enumerate(cells):\n",
    "        print('column', j, 'cell', cell)"
   ]
  },
  {
   "cell_type": "code",
   "execution_count": 40,
   "metadata": {},
   "outputs": [
    {
     "data": {
      "text/plain": [
       "[<tr><td id=\"flight\">Flight No</td><td>Launch site</td> <td>Payload mass</td></tr>,\n",
       " <td id=\"flight\">Flight No</td>,\n",
       " <td>Launch site</td>,\n",
       " <td>Payload mass</td>,\n",
       " <tr> <td>1</td><td><a href=\"https://en.wikipedia.org/wiki/Florida\">Florida</a><a></a></td><td>300 kg</td></tr>,\n",
       " <td>1</td>,\n",
       " <td><a href=\"https://en.wikipedia.org/wiki/Florida\">Florida</a><a></a></td>,\n",
       " <td>300 kg</td>,\n",
       " <tr><td>2</td><td><a href=\"https://en.wikipedia.org/wiki/Texas\">Texas</a></td><td>94 kg</td></tr>,\n",
       " <td>2</td>,\n",
       " <td><a href=\"https://en.wikipedia.org/wiki/Texas\">Texas</a></td>,\n",
       " <td>94 kg</td>,\n",
       " <tr><td>3</td><td><a href=\"https://en.wikipedia.org/wiki/Florida\">Florida</a><a> </a></td><td>80 kg</td></tr>,\n",
       " <td>3</td>,\n",
       " <td><a href=\"https://en.wikipedia.org/wiki/Florida\">Florida</a><a> </a></td>,\n",
       " <td>80 kg</td>]"
      ]
     },
     "execution_count": 40,
     "metadata": {},
     "output_type": "execute_result"
    }
   ],
   "source": [
    "list_input = table_bs.find_all(['tr', 'td'])\n",
    "list_input"
   ]
  },
  {
   "cell_type": "code",
   "execution_count": 41,
   "metadata": {},
   "outputs": [
    {
     "data": {
      "text/plain": [
       "[<td id=\"flight\">Flight No</td>]"
      ]
     },
     "execution_count": 41,
     "metadata": {},
     "output_type": "execute_result"
    }
   ],
   "source": [
    "# - attributes: if this arg is not recognized -> filter on tag\n",
    "table_bs.find_all(id='flight')"
   ]
  },
  {
   "cell_type": "code",
   "execution_count": 42,
   "metadata": {},
   "outputs": [
    {
     "data": {
      "text/plain": [
       "[<a href=\"https://en.wikipedia.org/wiki/Florida\">Florida</a>,\n",
       " <a href=\"https://en.wikipedia.org/wiki/Florida\">Florida</a>]"
      ]
     },
     "execution_count": 42,
     "metadata": {},
     "output_type": "execute_result"
    }
   ],
   "source": [
    "list_input = table_bs.find_all(href=\"https://en.wikipedia.org/wiki/Florida\")\n",
    "list_input"
   ]
  },
  {
   "cell_type": "code",
   "execution_count": 43,
   "metadata": {},
   "outputs": [
    {
     "data": {
      "text/plain": [
       "[<a href=\"https://en.wikipedia.org/wiki/Florida\">Florida</a>,\n",
       " <a href=\"https://en.wikipedia.org/wiki/Texas\">Texas</a>,\n",
       " <a href=\"https://en.wikipedia.org/wiki/Florida\">Florida</a>]"
      ]
     },
     "execution_count": 43,
     "metadata": {},
     "output_type": "execute_result"
    }
   ],
   "source": [
    "# find all href\n",
    "table_bs.find_all(href=True)"
   ]
  },
  {
   "cell_type": "code",
   "execution_count": 45,
   "metadata": {},
   "outputs": [
    {
     "data": {
      "text/plain": [
       "[<b id=\"boldest\">Lebron James</b>]"
      ]
     },
     "execution_count": 45,
     "metadata": {},
     "output_type": "execute_result"
    }
   ],
   "source": [
    "soup.find_all(id='boldest')"
   ]
  },
  {
   "cell_type": "code",
   "execution_count": 48,
   "metadata": {},
   "outputs": [
    {
     "data": {
      "text/plain": [
       "['Florida', 'Florida']"
      ]
     },
     "execution_count": 48,
     "metadata": {},
     "output_type": "execute_result"
    }
   ],
   "source": [
    "# - string\n",
    "table_bs.find_all(string='Florida')"
   ]
  },
  {
   "cell_type": "markdown",
   "metadata": {},
   "source": [
    "# Downloading and Scraping the Contents of a Web Page"
   ]
  },
  {
   "cell_type": "code",
   "execution_count": 49,
   "metadata": {},
   "outputs": [
    {
     "name": "stdout",
     "output_type": "stream",
     "text": [
      "https://www.ibm.com/fr-fr/cloud?lnk=hpfrpr1\n"
     ]
    }
   ],
   "source": [
    "url = \"http://www.ibm.com\"\n",
    "data = requests.get(url).text\n",
    "\n",
    "soup = BeautifulSoup(data, 'html5lib')\n",
    "\n",
    "for link in soup.find_all('a', href=True):\n",
    "    print(link.get('href'))"
   ]
  },
  {
   "cell_type": "code",
   "execution_count": 50,
   "metadata": {},
   "outputs": [
    {
     "name": "stdout",
     "output_type": "stream",
     "text": [
      "<img alt=\"Portraits des consultants IBM\" class=\"bx--image__img\" id=\"image--1662819746\" loading=\"lazy\" src=\"/content/dam/adobe-cms/default-images/home-consultants.component.crop-16by9-xl.ts=1695221366270.jpg/content/adobe-cms/fr/fr/homepage/_jcr_content/root/table_of_contents/simple_image\"/>\n",
      "/content/dam/adobe-cms/default-images/home-consultants.component.crop-16by9-xl.ts=1695221366270.jpg/content/adobe-cms/fr/fr/homepage/_jcr_content/root/table_of_contents/simple_image\n"
     ]
    }
   ],
   "source": [
    "for link in soup.find_all('img'):\n",
    "    print(link)\n",
    "    print(link.get('src'))"
   ]
  },
  {
   "cell_type": "markdown",
   "metadata": {},
   "source": [
    "Scrape data from HTMl tables"
   ]
  },
  {
   "cell_type": "code",
   "execution_count": 51,
   "metadata": {},
   "outputs": [],
   "source": [
    "url = \"https://cf-courses-data.s3.us.cloud-object-storage.appdomain.cloud/IBM-DA0321EN-SkillsNetwork/labs/datasets/HTMLColorCodes.html\""
   ]
  },
  {
   "cell_type": "code",
   "execution_count": 52,
   "metadata": {},
   "outputs": [],
   "source": [
    "data = requests.get(url).text\n",
    "soup = BeautifulSoup(data, 'html5lib')"
   ]
  },
  {
   "cell_type": "code",
   "execution_count": 53,
   "metadata": {},
   "outputs": [],
   "source": [
    "table = soup.find('table')"
   ]
  },
  {
   "cell_type": "code",
   "execution_count": 54,
   "metadata": {},
   "outputs": [
    {
     "name": "stdout",
     "output_type": "stream",
     "text": [
      "Color Name---->Hex Code#RRGGBB\n",
      "lightsalmon---->#FFA07A\n",
      "salmon---->#FA8072\n",
      "darksalmon---->#E9967A\n",
      "lightcoral---->#F08080\n",
      "coral---->#FF7F50\n",
      "tomato---->#FF6347\n",
      "orangered---->#FF4500\n",
      "gold---->#FFD700\n",
      "orange---->#FFA500\n",
      "darkorange---->#FF8C00\n",
      "lightyellow---->#FFFFE0\n",
      "lemonchiffon---->#FFFACD\n",
      "papayawhip---->#FFEFD5\n",
      "moccasin---->#FFE4B5\n",
      "peachpuff---->#FFDAB9\n",
      "palegoldenrod---->#EEE8AA\n",
      "khaki---->#F0E68C\n",
      "darkkhaki---->#BDB76B\n",
      "yellow---->#FFFF00\n",
      "lawngreen---->#7CFC00\n",
      "chartreuse---->#7FFF00\n",
      "limegreen---->#32CD32\n",
      "lime---->#00FF00\n",
      "forestgreen---->#228B22\n",
      "green---->#008000\n",
      "powderblue---->#B0E0E6\n",
      "lightblue---->#ADD8E6\n",
      "lightskyblue---->#87CEFA\n",
      "skyblue---->#87CEEB\n",
      "deepskyblue---->#00BFFF\n",
      "lightsteelblue---->#B0C4DE\n",
      "dodgerblue---->#1E90FF\n"
     ]
    }
   ],
   "source": [
    "for row in table.find_all('tr'):\n",
    "    cols = row.find_all('td')\n",
    "    color_name = cols[2].string\n",
    "    color_code = cols[3].text\n",
    "    print(\"{}---->{}\".format(color_name, color_code))"
   ]
  },
  {
   "cell_type": "code",
   "execution_count": 56,
   "metadata": {},
   "outputs": [
    {
     "name": "stdout",
     "output_type": "stream",
     "text": [
      "<html>\n",
      "   <body>\n",
      "      <h1>Partital List  of HTML5 Supported Colors</h1>\n",
      "<table border =\"1\" class=\"main-table\">\n",
      "   <tr>\n",
      "      <td>Number </td>\n",
      "      <td>Color</td>\n",
      "      <td>Color Name</td>\n",
      "      <td>Hex Code<br>#RRGGBB</td>\n",
      "      <td>Decimal Code<br>(R,G,B)</td>\n",
      "   </tr>\n",
      "   <tr>\n",
      "      <td>1</td>\n",
      "      <td style=\"background:lightsalmon;\">&nbsp;</td>\n",
      "      <td>lightsalmon</td>\n",
      "      <td>#FFA07A</td>\n",
      "      <td>rgb(255,160,122)</td>\n",
      "   </tr>\n",
      "   <tr>\n",
      "      <td>2</td>\n",
      "      <td style=\"background:salmon;\">&nbsp;</td>\n",
      "      <td>salmon</td>\n",
      "      <td>#FA8072</td>\n",
      "      <td>rgb(250,128,114)</td>\n",
      "   </tr>\n",
      "   <tr>\n",
      "      <td>3</td>\n",
      "      <td style=\"background:darksalmon;\">&nbsp;</td>\n",
      "      <td>darksalmon</td>\n",
      "      <td>#E9967A</td>\n",
      "      <td>rgb(233,150,122)</td>\n",
      "   </tr>\n",
      "   <tr>\n",
      "      <td>4</td>\n",
      "      <td style=\"background:lightcoral;\">&nbsp;</td>\n",
      "      <td>lightcoral</td>\n",
      "      <td>#F08080</td>\n",
      "      <td>rgb(240,128,128)</td>\n",
      "   </tr>\n",
      "   <tr>\n",
      "      <td>5</td>\n",
      "      <td style=\"background:coral;\">&nbsp;</td>\n",
      "      <td>coral</td>\n",
      "      <td>#FF7F50</td>\n",
      "      <td>rgb(255,127,80)</td>\n",
      "   </tr>\n",
      "   <tr>\n",
      "      <td>6</td>\n",
      "      <td style=\"background:tomato;\">&nbsp;</td>\n",
      "      <td>tomato</td>\n",
      "      <td>#FF6347</td>\n",
      "      <td>rgb(255,99,71)</td>\n",
      "   </tr>\n",
      "   <tr>\n",
      "      <td>7</td>\n",
      "      <td style=\"background:orangered;\">&nbsp;</td>\n",
      "      <td>orangered</td>\n",
      "      <td>#FF4500</td>\n",
      "      <td>rgb(255,69,0)</td>\n",
      "   </tr>\n",
      "   <tr>\n",
      "      <td>8</td>\n",
      "      <td style=\"background:gold;\">&nbsp;</td>\n",
      "      <td>gold</td>\n",
      "      <td>#FFD700</td>\n",
      "      <td>rgb(255,215,0)</td>\n",
      "   </tr>\n",
      "   <tr>\n",
      "      <td>9</td>\n",
      "      <td style=\"background:orange;\">&nbsp;</td>\n",
      "      <td>orange</td>\n",
      "      <td>#FFA500</td>\n",
      "      <td>rgb(255,165,0)</td>\n",
      "   </tr>\n",
      "   <tr>\n",
      "      <td>10</td>\n",
      "      <td style=\"background:darkorange;\">&nbsp;</td>\n",
      "      <td>darkorange</td>\n",
      "      <td>#FF8C00</td>\n",
      "      <td>rgb(255,140,0)</td>\n",
      "   </tr>\n",
      "   <tr>\n",
      "      <td>11</td>\n",
      "      <td style=\"background:lightyellow;\">&nbsp;</td>\n",
      "      <td>lightyellow</td>\n",
      "      <td>#FFFFE0</td>\n",
      "      <td>rgb(255,255,224)</td>\n",
      "   </tr>\n",
      "   <tr>\n",
      "      <td>12</td>\n",
      "      <td style=\"background:lemonchiffon;\">&nbsp;</td>\n",
      "      <td>lemonchiffon</td>\n",
      "      <td>#FFFACD</td>\n",
      "      <td>rgb(255,250,205)</td>\n",
      "   </tr>\n",
      "   <tr>\n",
      "      <td>13</td>\n",
      "      <td style=\"background:papayawhip;\">&nbsp;</td>\n",
      "      <td>papayawhip</td>\n",
      "      <td>#FFEFD5</td>\n",
      "      <td>rgb(255,239,213)</td>\n",
      "   </tr>\n",
      "   <tr>\n",
      "      <td>14</td>\n",
      "      <td style=\"background:moccasin;\">&nbsp;</td>\n",
      "      <td>moccasin</td>\n",
      "      <td>#FFE4B5</td>\n",
      "      <td>rgb(255,228,181)</td>\n",
      "   </tr>\n",
      "   <tr>\n",
      "      <td>15</td>\n",
      "      <td style=\"background:peachpuff;\">&nbsp;</td>\n",
      "      <td>peachpuff</td>\n",
      "      <td>#FFDAB9</td>\n",
      "      <td>rgb(255,218,185)</td>\n",
      "   </tr>\n",
      "   <tr>\n",
      "      <td>16</td>\n",
      "      <td style=\"background:palegoldenrod;\">&nbsp;</td>\n",
      "      <td>palegoldenrod</td>\n",
      "      <td>#EEE8AA</td>\n",
      "      <td>rgb(238,232,170)</td>\n",
      "   </tr>\n",
      "   <tr>\n",
      "      <td>17</td>\n",
      "      <td style=\"background:khaki;\">&nbsp;</td>\n",
      "      <td>khaki</td>\n",
      "      <td>#F0E68C</td>\n",
      "      <td>rgb(240,230,140)</td>\n",
      "   </tr>\n",
      "   <tr>\n",
      "      <td>18</td>\n",
      "      <td style=\"background:darkkhaki;\">&nbsp;</td>\n",
      "      <td>darkkhaki</td>\n",
      "      <td>#BDB76B</td>\n",
      "      <td>rgb(189,183,107)</td>\n",
      "   </tr>\n",
      "   <tr>\n",
      "      <td>19</td>\n",
      "      <td style=\"background:yellow;\">&nbsp;</td>\n",
      "      <td>yellow</td>\n",
      "      <td>#FFFF00</td>\n",
      "      <td>rgb(255,255,0)</td>\n",
      "   </tr>\n",
      "   <tr>\n",
      "      <td>20</td>\n",
      "      <td style=\"background:lawngreen;\">&nbsp;</td>\n",
      "      <td>lawngreen</td>\n",
      "      <td>#7CFC00</td>\n",
      "      <td>rgb(124,252,0)</td>\n",
      "   </tr>\n",
      "   <tr>\n",
      "      <td>21</td>\n",
      "      <td style=\"background:chartreuse;\">&nbsp;</td>\n",
      "      <td>chartreuse</td>\n",
      "      <td>#7FFF00</td>\n",
      "      <td>rgb(127,255,0)</td>\n",
      "   </tr>\n",
      "   <tr>\n",
      "      <td>22</td>\n",
      "      <td style=\"background:limegreen;\">&nbsp;</td>\n",
      "      <td>limegreen</td>\n",
      "      <td>#32CD32</td>\n",
      "      <td>rgb(50,205,50)</td>\n",
      "   </tr>\n",
      "   <tr>\n",
      "      <td>23</td>\n",
      "      <td style=\"background:lime;\">&nbsp;</td>\n",
      "      <td>lime</td>\n",
      "      <td>#00FF00</td>\n",
      "      <td>rgb(0.255.0)</td>\n",
      "   </tr>\n",
      "   <tr>\n",
      "      <td>24</td>\n",
      "      <td style=\"background:forestgreen;\">&nbsp;</td>\n",
      "      <td>forestgreen</td>\n",
      "      <td>#228B22</td>\n",
      "      <td>rgb(34,139,34)</td>\n",
      "   </tr>\n",
      "   <tr>\n",
      "      <td>25</td>\n",
      "      <td style=\"background:green;\">&nbsp;</td>\n",
      "      <td>green</td>\n",
      "      <td>#008000</td>\n",
      "      <td>rgb(0,128,0)</td>\n",
      "   </tr>\n",
      "   <tr>\n",
      "      <td>26</td>\n",
      "      <td style=\"background:powderblue;\">&nbsp;</td>\n",
      "      <td>powderblue</td>\n",
      "      <td>#B0E0E6</td>\n",
      "      <td>rgb(176,224,230)</td>\n",
      "   </tr>\n",
      "   <tr>\n",
      "      <td>27</td>\n",
      "      <td style=\"background:lightblue;\">&nbsp;</td>\n",
      "      <td>lightblue</td>\n",
      "      <td>#ADD8E6</td>\n",
      "      <td>rgb(173,216,230)</td>\n",
      "   </tr>\n",
      "   <tr>\n",
      "      <td>28</td>\n",
      "      <td style=\"background:lightskyblue;\">&nbsp;</td>\n",
      "      <td>lightskyblue</td>\n",
      "      <td>#87CEFA</td>\n",
      "      <td>rgb(135,206,250)</td>\n",
      "   </tr>\n",
      "   <tr>\n",
      "      <td>29</td>\n",
      "      <td style=\"background:skyblue;\">&nbsp;</td>\n",
      "      <td>skyblue</td>\n",
      "      <td>#87CEEB</td>\n",
      "      <td>rgb(135,206,235)</td>\n",
      "   </tr>\n",
      "   <tr>\n",
      "      <td>30</td>\n",
      "      <td style=\"background:deepskyblue;\">&nbsp;</td>\n",
      "      <td>deepskyblue</td>\n",
      "      <td>#00BFFF</td>\n",
      "      <td>rgb(0,191,255)</td>\n",
      "   </tr>\n",
      "   <tr>\n",
      "      <td>31</td>\n",
      "      <td style=\"background:lightsteelblue;\">&nbsp;</td>\n",
      "      <td>lightsteelblue</td>\n",
      "      <td>#B0C4DE</td>\n",
      "      <td>rgb(176,196,222)</td>\n",
      "   </tr>\n",
      "   <tr>\n",
      "      <td>32</td>\n",
      "      <td style=\"background:dodgerblue;\">&nbsp;</td>\n",
      "      <td>dodgerblue</td>\n",
      "      <td>#1E90FF</td>\n",
      "      <td>rgb(30,144,255)</td>\n",
      "   </tr>\n",
      "</table>\n",
      "   </body>\n",
      "</html>\n"
     ]
    }
   ],
   "source": [
    "print(data)"
   ]
  },
  {
   "cell_type": "code",
   "execution_count": 58,
   "metadata": {},
   "outputs": [
    {
     "data": {
      "text/plain": [
       "array([0, 0, 0, 0, 0])"
      ]
     },
     "execution_count": 58,
     "metadata": {},
     "output_type": "execute_result"
    }
   ],
   "source": [
    "import numpy as np\n",
    "a=np.array([0,1,0,1,0]) \n",
    "b=np.array([1,0,1,0,1])\n",
    "a*b \n",
    "\n"
   ]
  },
  {
   "cell_type": "code",
   "execution_count": null,
   "metadata": {},
   "outputs": [],
   "source": []
  }
 ],
 "metadata": {
  "kernelspec": {
   "display_name": "tf",
   "language": "python",
   "name": "python3"
  },
  "language_info": {
   "codemirror_mode": {
    "name": "ipython",
    "version": 3
   },
   "file_extension": ".py",
   "mimetype": "text/x-python",
   "name": "python",
   "nbconvert_exporter": "python",
   "pygments_lexer": "ipython3",
   "version": "3.10.9"
  }
 },
 "nbformat": 4,
 "nbformat_minor": 2
}
